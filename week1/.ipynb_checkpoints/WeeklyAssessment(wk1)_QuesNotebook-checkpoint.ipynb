{
 "cells": [
  {
   "cell_type": "markdown",
   "id": "517a46da",
   "metadata": {
    "id": "c99bc0f4"
   },
   "source": [
    "# Week:1 Introduction to Data Mining"
   ]
  },
  {
   "cell_type": "markdown",
   "id": "12f626c2",
   "metadata": {
    "id": "17614dd2"
   },
   "source": [
    "### Objective:\n",
    "The objective of the assignment is to understand how to install libraries, creating variables, calculate statistical metrics, basic python opreations, creating dataframes and basic pandas operations on the dataframe.\n",
    "\n",
    "We have to use Fatal Police Shooting Data to answer the questions given in this notebook."
   ]
  },
  {
   "cell_type": "markdown",
   "id": "d5d4dbdb",
   "metadata": {
    "id": "94579906"
   },
   "source": [
    "### Fatal Police Shooting Data"
   ]
  },
  {
   "cell_type": "markdown",
   "id": "5ebbf336",
   "metadata": {
    "id": "4fbb8326"
   },
   "source": [
    "**About dataset**\\\n",
    "The dataset consists of following columns\n",
    "1. **id**                         : unqiue identifier of each victim\n",
    "2. **name**                       : name of a victim\n",
    "3. **date**                       : date on fatal shooting \n",
    "4. **manner_of_death**            : manner of death classification\n",
    "    * Shot\n",
    "    * Shot and Tasered\n",
    "5. **armed**                      : indicates that the victim was armed with some sort of implement that a police officer believed could inflict harm\n",
    "    * undetermined: it is not known whether or not the victim had a weapon\n",
    "    * unknown: the victim was armed, but it is not known what the object was\n",
    "    * unarmed: the victim was not armed\n",
    "6. **age**                        : age of victim\n",
    "7. **gender**                     : the gender of the victim. The Post identifies victims by the gender they identify with if reports indicate that it differs from their biological sex.\n",
    "    * M: Male\n",
    "    * F: Female\n",
    "    * None: Unknown\n",
    "8. **race**                       : race of victim\n",
    "    * W: White, non-Hispanic\n",
    "    * B: Black, non-Hispanic\n",
    "    * A: Asian\n",
    "    * N: Native American\n",
    "    * H: Hispanic\n",
    "    * O: Other\n",
    "    * None: unknown\n",
    "9. **city**                       : the city where the fatal shooting took place. Note that in some cases this field may contain a county name if a more specific city is unavailable or unknown.\n",
    "10. **state**                     : two-letter postal code abbreviation\n",
    "11. **signs_of_mental_illness**   : News reports have indicated the victim had a history of mental health issues, expressed suicidal intentions or was experiencing mental distress at the time of the shooting.\n",
    "12. **threat_level**              : These would include incidents where officers or others were shot at, threatened with a gun, attacked with other weapons or physical force, etc. The attack category is meant to flag the highest level of threat. The other and undetermined categories represent all remaining cases. Other includes many incidents where officers or others faced significant threats. \n",
    "13. **flee**                      : News reports have indicated the victim was moving away from officers\n",
    "    * Foot\n",
    "    * Car\n",
    "    * Not fleeing\n",
    "14. **body_camera**               : News reports have indicated an officer was wearing a body camera and it may have recorded some portion of the incident."
   ]
  },
  {
   "cell_type": "markdown",
   "id": "cf98638d",
   "metadata": {
    "id": "e14398de"
   },
   "source": [
    "## Let's Begin"
   ]
  },
  {
   "cell_type": "markdown",
   "id": "291544dc",
   "metadata": {
    "id": "8340d0e8"
   },
   "source": [
    "### Question: 1            (2 Marks)                                                                                                                                                  \n",
    "\n",
    "Install the required libraries for the assignment"
   ]
  },
  {
   "cell_type": "code",
   "execution_count": 14,
   "id": "ea85a1aa",
   "metadata": {
    "id": "3d729e18"
   },
   "outputs": [],
   "source": [
    "import numpy as np"
   ]
  },
  {
   "cell_type": "code",
   "execution_count": 15,
   "id": "1180ffc4",
   "metadata": {
    "id": "8c61f48d"
   },
   "outputs": [
    {
     "name": "stdout",
     "output_type": "stream",
     "text": [
      "Collecting pandas\n",
      "  Using cached pandas-2.2.0-cp310-cp310-macosx_11_0_arm64.whl.metadata (19 kB)\n",
      "Collecting bottleneck\n",
      "  Using cached Bottleneck-1.3.7-cp310-cp310-macosx_11_0_arm64.whl\n",
      "Requirement already satisfied: numpy<2,>=1.22.4 in /Users/lngeorge/anaconda3/lib/python3.10/site-packages (from pandas) (1.25.2)\n",
      "Requirement already satisfied: python-dateutil>=2.8.2 in /Users/lngeorge/anaconda3/lib/python3.10/site-packages (from pandas) (2.8.2)\n",
      "Requirement already satisfied: pytz>=2020.1 in /Users/lngeorge/anaconda3/lib/python3.10/site-packages (from pandas) (2023.3.post1)\n",
      "Requirement already satisfied: tzdata>=2022.7 in /Users/lngeorge/anaconda3/lib/python3.10/site-packages (from pandas) (2023.4)\n",
      "Requirement already satisfied: six>=1.5 in /Users/lngeorge/anaconda3/lib/python3.10/site-packages (from python-dateutil>=2.8.2->pandas) (1.16.0)\n",
      "Using cached pandas-2.2.0-cp310-cp310-macosx_11_0_arm64.whl (11.8 MB)\n",
      "Installing collected packages: bottleneck, pandas\n",
      "Successfully installed bottleneck-1.3.7 pandas-2.2.0\n"
     ]
    }
   ],
   "source": [
    "# Install a libray which help us to data injecting, data manipulation on the dataframe\n",
    "!pip install pandas bottleneck\n"
   ]
  },
  {
   "cell_type": "code",
   "execution_count": 16,
   "id": "e9f4ba00",
   "metadata": {
    "id": "70d9c188"
   },
   "outputs": [
    {
     "data": {
      "text/plain": [
       "'2.2.0'"
      ]
     },
     "execution_count": 16,
     "metadata": {},
     "output_type": "execute_result"
    }
   ],
   "source": [
    "# Import the libary\n",
    "import pandas as pd\n",
    "\n",
    "#Check the version\n",
    "pd.__version__\n"
   ]
  },
  {
   "cell_type": "code",
   "execution_count": 17,
   "id": "c090f127",
   "metadata": {
    "id": "f12d41d3"
   },
   "outputs": [
    {
     "name": "stdout",
     "output_type": "stream",
     "text": [
      "Requirement already satisfied: pandas in /Users/lngeorge/anaconda3/lib/python3.10/site-packages (2.2.0)\n",
      "Requirement already satisfied: bottleneck in /Users/lngeorge/anaconda3/lib/python3.10/site-packages (1.3.7)\n",
      "Requirement already satisfied: numpy<2,>=1.22.4 in /Users/lngeorge/anaconda3/lib/python3.10/site-packages (from pandas) (1.25.2)\n",
      "Requirement already satisfied: python-dateutil>=2.8.2 in /Users/lngeorge/anaconda3/lib/python3.10/site-packages (from pandas) (2.8.2)\n",
      "Requirement already satisfied: pytz>=2020.1 in /Users/lngeorge/anaconda3/lib/python3.10/site-packages (from pandas) (2023.3.post1)\n",
      "Requirement already satisfied: tzdata>=2022.7 in /Users/lngeorge/anaconda3/lib/python3.10/site-packages (from pandas) (2023.4)\n",
      "Requirement already satisfied: six>=1.5 in /Users/lngeorge/anaconda3/lib/python3.10/site-packages (from python-dateutil>=2.8.2->pandas) (1.16.0)\n"
     ]
    }
   ],
   "source": [
    "# Upgrade the installed library to the latest version\n",
    "!pip install --upgrade pandas bottleneck"
   ]
  },
  {
   "cell_type": "code",
   "execution_count": 19,
   "id": "018def1a",
   "metadata": {
    "id": "84e10f95"
   },
   "outputs": [
    {
     "data": {
      "text/plain": [
       "'2.2.0'"
      ]
     },
     "execution_count": 19,
     "metadata": {},
     "output_type": "execute_result"
    }
   ],
   "source": [
    "# Check the latest version after upgrading library\n",
    "# Import the libary\n",
    "import pandas as pd\n",
    "\n",
    "#Check the version\n",
    "pd.__version__\n",
    "\n",
    " #Todo: Code to fill\n",
    " # 1. '<<__A__>>'--> import requried libraries\n",
    " # 2. '<<__B__>>'--> Check the version \n",
    " # 3. '<<__C__>>'--> Updgrade the installed library to leatest version\n",
    " # 4. '<<__D__>>'--> Check the latest version after upgrading library \n"
   ]
  },
  {
   "cell_type": "markdown",
   "id": "1ddb507b",
   "metadata": {
    "id": "a4efbe66"
   },
   "source": [
    "### Question: 2 (2 marks)\n",
    "\n",
    "- Fill in the missing code. \n",
    "- Store the data in to a variable, then display the top 5 and bottom 5 rows of records and check the dataset's shape."
   ]
  },
  {
   "cell_type": "code",
   "execution_count": 79,
   "id": "829b98cd",
   "metadata": {
    "id": "4368ca97"
   },
   "outputs": [],
   "source": [
    "FATALPOLICESHOOTINGDATAFILE = \"fatal-police-shootings-data.csv\"\n",
    "# Load the dataframe and store it into the variable\n",
    "df = pd.read_csv(FATALPOLICESHOOTINGDATAFILE)"
   ]
  },
  {
   "cell_type": "code",
   "execution_count": 80,
   "id": "0c4decad",
   "metadata": {
    "id": "20aae492"
   },
   "outputs": [
    {
     "data": {
      "text/html": [
       "<div>\n",
       "<style scoped>\n",
       "    .dataframe tbody tr th:only-of-type {\n",
       "        vertical-align: middle;\n",
       "    }\n",
       "\n",
       "    .dataframe tbody tr th {\n",
       "        vertical-align: top;\n",
       "    }\n",
       "\n",
       "    .dataframe thead th {\n",
       "        text-align: right;\n",
       "    }\n",
       "</style>\n",
       "<table border=\"1\" class=\"dataframe\">\n",
       "  <thead>\n",
       "    <tr style=\"text-align: right;\">\n",
       "      <th></th>\n",
       "      <th>id</th>\n",
       "      <th>name</th>\n",
       "      <th>date</th>\n",
       "      <th>manner_of_death</th>\n",
       "      <th>armed</th>\n",
       "      <th>age</th>\n",
       "      <th>gender</th>\n",
       "      <th>race</th>\n",
       "      <th>city</th>\n",
       "      <th>state</th>\n",
       "      <th>signs_of_mental_illness</th>\n",
       "      <th>threat_level</th>\n",
       "      <th>flee</th>\n",
       "      <th>body_camera</th>\n",
       "    </tr>\n",
       "  </thead>\n",
       "  <tbody>\n",
       "    <tr>\n",
       "      <th>0</th>\n",
       "      <td>3</td>\n",
       "      <td>Tim Elliot</td>\n",
       "      <td>2015-01-02</td>\n",
       "      <td>shot</td>\n",
       "      <td>gun</td>\n",
       "      <td>53.0</td>\n",
       "      <td>M</td>\n",
       "      <td>A</td>\n",
       "      <td>Shelton</td>\n",
       "      <td>WA</td>\n",
       "      <td>True</td>\n",
       "      <td>attack</td>\n",
       "      <td>Not fleeing</td>\n",
       "      <td>False</td>\n",
       "    </tr>\n",
       "    <tr>\n",
       "      <th>1</th>\n",
       "      <td>4</td>\n",
       "      <td>Lewis Lee Lembke</td>\n",
       "      <td>2015-01-02</td>\n",
       "      <td>shot</td>\n",
       "      <td>gun</td>\n",
       "      <td>47.0</td>\n",
       "      <td>M</td>\n",
       "      <td>W</td>\n",
       "      <td>Aloha</td>\n",
       "      <td>OR</td>\n",
       "      <td>False</td>\n",
       "      <td>attack</td>\n",
       "      <td>Not fleeing</td>\n",
       "      <td>False</td>\n",
       "    </tr>\n",
       "    <tr>\n",
       "      <th>2</th>\n",
       "      <td>5</td>\n",
       "      <td>John Paul Quintero</td>\n",
       "      <td>2015-01-03</td>\n",
       "      <td>shot and Tasered</td>\n",
       "      <td>unarmed</td>\n",
       "      <td>23.0</td>\n",
       "      <td>M</td>\n",
       "      <td>H</td>\n",
       "      <td>Wichita</td>\n",
       "      <td>KS</td>\n",
       "      <td>False</td>\n",
       "      <td>other</td>\n",
       "      <td>Not fleeing</td>\n",
       "      <td>False</td>\n",
       "    </tr>\n",
       "    <tr>\n",
       "      <th>3</th>\n",
       "      <td>8</td>\n",
       "      <td>Matthew Hoffman</td>\n",
       "      <td>2015-01-04</td>\n",
       "      <td>shot</td>\n",
       "      <td>toy weapon</td>\n",
       "      <td>32.0</td>\n",
       "      <td>M</td>\n",
       "      <td>W</td>\n",
       "      <td>San Francisco</td>\n",
       "      <td>CA</td>\n",
       "      <td>True</td>\n",
       "      <td>attack</td>\n",
       "      <td>Not fleeing</td>\n",
       "      <td>False</td>\n",
       "    </tr>\n",
       "    <tr>\n",
       "      <th>4</th>\n",
       "      <td>9</td>\n",
       "      <td>Michael Rodriguez</td>\n",
       "      <td>2015-01-04</td>\n",
       "      <td>shot</td>\n",
       "      <td>nail gun</td>\n",
       "      <td>39.0</td>\n",
       "      <td>M</td>\n",
       "      <td>H</td>\n",
       "      <td>Evans</td>\n",
       "      <td>CO</td>\n",
       "      <td>False</td>\n",
       "      <td>attack</td>\n",
       "      <td>Not fleeing</td>\n",
       "      <td>False</td>\n",
       "    </tr>\n",
       "  </tbody>\n",
       "</table>\n",
       "</div>"
      ],
      "text/plain": [
       "   id                name        date   manner_of_death       armed   age  \\\n",
       "0   3          Tim Elliot  2015-01-02              shot         gun  53.0   \n",
       "1   4    Lewis Lee Lembke  2015-01-02              shot         gun  47.0   \n",
       "2   5  John Paul Quintero  2015-01-03  shot and Tasered     unarmed  23.0   \n",
       "3   8     Matthew Hoffman  2015-01-04              shot  toy weapon  32.0   \n",
       "4   9   Michael Rodriguez  2015-01-04              shot    nail gun  39.0   \n",
       "\n",
       "  gender race           city state  signs_of_mental_illness threat_level  \\\n",
       "0      M    A        Shelton    WA                     True       attack   \n",
       "1      M    W          Aloha    OR                    False       attack   \n",
       "2      M    H        Wichita    KS                    False        other   \n",
       "3      M    W  San Francisco    CA                     True       attack   \n",
       "4      M    H          Evans    CO                    False       attack   \n",
       "\n",
       "          flee  body_camera  \n",
       "0  Not fleeing        False  \n",
       "1  Not fleeing        False  \n",
       "2  Not fleeing        False  \n",
       "3  Not fleeing        False  \n",
       "4  Not fleeing        False  "
      ]
     },
     "execution_count": 80,
     "metadata": {},
     "output_type": "execute_result"
    }
   ],
   "source": [
    "# Display the Top 5 records\n",
    "df.head(5)\n"
   ]
  },
  {
   "cell_type": "code",
   "execution_count": 81,
   "id": "69810713",
   "metadata": {
    "id": "dd028726"
   },
   "outputs": [
    {
     "data": {
      "text/html": [
       "<div>\n",
       "<style scoped>\n",
       "    .dataframe tbody tr th:only-of-type {\n",
       "        vertical-align: middle;\n",
       "    }\n",
       "\n",
       "    .dataframe tbody tr th {\n",
       "        vertical-align: top;\n",
       "    }\n",
       "\n",
       "    .dataframe thead th {\n",
       "        text-align: right;\n",
       "    }\n",
       "</style>\n",
       "<table border=\"1\" class=\"dataframe\">\n",
       "  <thead>\n",
       "    <tr style=\"text-align: right;\">\n",
       "      <th></th>\n",
       "      <th>id</th>\n",
       "      <th>name</th>\n",
       "      <th>date</th>\n",
       "      <th>manner_of_death</th>\n",
       "      <th>armed</th>\n",
       "      <th>age</th>\n",
       "      <th>gender</th>\n",
       "      <th>race</th>\n",
       "      <th>city</th>\n",
       "      <th>state</th>\n",
       "      <th>signs_of_mental_illness</th>\n",
       "      <th>threat_level</th>\n",
       "      <th>flee</th>\n",
       "      <th>body_camera</th>\n",
       "    </tr>\n",
       "  </thead>\n",
       "  <tbody>\n",
       "    <tr>\n",
       "      <th>4473</th>\n",
       "      <td>4907</td>\n",
       "      <td>Connor Betts</td>\n",
       "      <td>2019-08-04</td>\n",
       "      <td>shot</td>\n",
       "      <td>gun</td>\n",
       "      <td>24.0</td>\n",
       "      <td>M</td>\n",
       "      <td>W</td>\n",
       "      <td>Dayton</td>\n",
       "      <td>OH</td>\n",
       "      <td>True</td>\n",
       "      <td>attack</td>\n",
       "      <td>Not fleeing</td>\n",
       "      <td>False</td>\n",
       "    </tr>\n",
       "    <tr>\n",
       "      <th>4474</th>\n",
       "      <td>4909</td>\n",
       "      <td>Robert Clay Wilsford Jr.</td>\n",
       "      <td>2019-08-04</td>\n",
       "      <td>shot</td>\n",
       "      <td>gun</td>\n",
       "      <td>65.0</td>\n",
       "      <td>M</td>\n",
       "      <td>NaN</td>\n",
       "      <td>Hanceville</td>\n",
       "      <td>AL</td>\n",
       "      <td>True</td>\n",
       "      <td>attack</td>\n",
       "      <td>Not fleeing</td>\n",
       "      <td>False</td>\n",
       "    </tr>\n",
       "    <tr>\n",
       "      <th>4475</th>\n",
       "      <td>4910</td>\n",
       "      <td>TK TK</td>\n",
       "      <td>2019-08-05</td>\n",
       "      <td>shot</td>\n",
       "      <td>undetermined</td>\n",
       "      <td>NaN</td>\n",
       "      <td>NaN</td>\n",
       "      <td>NaN</td>\n",
       "      <td>Salt Lake City</td>\n",
       "      <td>UT</td>\n",
       "      <td>False</td>\n",
       "      <td>undetermined</td>\n",
       "      <td>Not fleeing</td>\n",
       "      <td>True</td>\n",
       "    </tr>\n",
       "    <tr>\n",
       "      <th>4476</th>\n",
       "      <td>4914</td>\n",
       "      <td>James Kirkwood</td>\n",
       "      <td>2019-08-05</td>\n",
       "      <td>shot</td>\n",
       "      <td>knife</td>\n",
       "      <td>49.0</td>\n",
       "      <td>M</td>\n",
       "      <td>B</td>\n",
       "      <td>Memphis</td>\n",
       "      <td>TN</td>\n",
       "      <td>False</td>\n",
       "      <td>attack</td>\n",
       "      <td>Foot</td>\n",
       "      <td>False</td>\n",
       "    </tr>\n",
       "    <tr>\n",
       "      <th>4477</th>\n",
       "      <td>4916</td>\n",
       "      <td>Marvin Alexis Urbina</td>\n",
       "      <td>2019-08-05</td>\n",
       "      <td>shot</td>\n",
       "      <td>vehicle</td>\n",
       "      <td>19.0</td>\n",
       "      <td>M</td>\n",
       "      <td>H</td>\n",
       "      <td>Bakersfield</td>\n",
       "      <td>CA</td>\n",
       "      <td>False</td>\n",
       "      <td>other</td>\n",
       "      <td>Car</td>\n",
       "      <td>False</td>\n",
       "    </tr>\n",
       "  </tbody>\n",
       "</table>\n",
       "</div>"
      ],
      "text/plain": [
       "        id                      name        date manner_of_death  \\\n",
       "4473  4907              Connor Betts  2019-08-04            shot   \n",
       "4474  4909  Robert Clay Wilsford Jr.  2019-08-04            shot   \n",
       "4475  4910                     TK TK  2019-08-05            shot   \n",
       "4476  4914            James Kirkwood  2019-08-05            shot   \n",
       "4477  4916      Marvin Alexis Urbina  2019-08-05            shot   \n",
       "\n",
       "             armed   age gender race            city state  \\\n",
       "4473           gun  24.0      M    W          Dayton    OH   \n",
       "4474           gun  65.0      M  NaN      Hanceville    AL   \n",
       "4475  undetermined   NaN    NaN  NaN  Salt Lake City    UT   \n",
       "4476         knife  49.0      M    B         Memphis    TN   \n",
       "4477       vehicle  19.0      M    H     Bakersfield    CA   \n",
       "\n",
       "      signs_of_mental_illness  threat_level         flee  body_camera  \n",
       "4473                     True        attack  Not fleeing        False  \n",
       "4474                     True        attack  Not fleeing        False  \n",
       "4475                    False  undetermined  Not fleeing         True  \n",
       "4476                    False        attack         Foot        False  \n",
       "4477                    False         other          Car        False  "
      ]
     },
     "execution_count": 81,
     "metadata": {},
     "output_type": "execute_result"
    }
   ],
   "source": [
    "# Display the last 5 records\n",
    "df.tail(5)\n",
    "\n",
    " #Todo: Code to fill\n",
    " # 1. '<<__A__>>'--> Appropriate pandas function to read the file\n",
    " # 2. '<<__B__>>'--> Appropriate path of the csv file\n",
    " # 3. '<<__C__>>'--> Check for top 5 records using appropriate function\n",
    " # 4. '<<__D__>>'--> Check for bottom 5 records using appropriate function"
   ]
  },
  {
   "cell_type": "code",
   "execution_count": 82,
   "id": "48154ad5",
   "metadata": {
    "id": "e42eb4da",
    "outputId": "dd8c3c7a-e643-437a-e257-7f0fc7e59722"
   },
   "outputs": [
    {
     "name": "stdout",
     "output_type": "stream",
     "text": [
      "No of columns:  14\n",
      "No of rows:  4478\n"
     ]
    }
   ],
   "source": [
    "# Check the shape of the datset\n",
    "print(\"No of columns: \",df.shape[1])\n",
    "print(\"No of rows: \",df.shape[0])"
   ]
  },
  {
   "cell_type": "markdown",
   "id": "c7f89cd9",
   "metadata": {
    "id": "195e585a"
   },
   "source": [
    "### Question: 3 (2 marks)\n",
    "Caluculate the statistical metrics of a column in a dataset"
   ]
  },
  {
   "cell_type": "code",
   "execution_count": 98,
   "id": "1c802cfa-c8e6-464f-afbb-8d78f80ad3e5",
   "metadata": {},
   "outputs": [
    {
     "data": {
      "text/html": [
       "<div>\n",
       "<style scoped>\n",
       "    .dataframe tbody tr th:only-of-type {\n",
       "        vertical-align: middle;\n",
       "    }\n",
       "\n",
       "    .dataframe tbody tr th {\n",
       "        vertical-align: top;\n",
       "    }\n",
       "\n",
       "    .dataframe thead th {\n",
       "        text-align: right;\n",
       "    }\n",
       "</style>\n",
       "<table border=\"1\" class=\"dataframe\">\n",
       "  <thead>\n",
       "    <tr style=\"text-align: right;\">\n",
       "      <th></th>\n",
       "      <th>id</th>\n",
       "      <th>name</th>\n",
       "      <th>date</th>\n",
       "      <th>manner_of_death</th>\n",
       "      <th>armed</th>\n",
       "      <th>age</th>\n",
       "      <th>gender</th>\n",
       "      <th>race</th>\n",
       "      <th>city</th>\n",
       "      <th>state</th>\n",
       "      <th>signs_of_mental_illness</th>\n",
       "      <th>threat_level</th>\n",
       "      <th>flee</th>\n",
       "      <th>body_camera</th>\n",
       "      <th>age_categories</th>\n",
       "    </tr>\n",
       "  </thead>\n",
       "  <tbody>\n",
       "    <tr>\n",
       "      <th>count</th>\n",
       "      <td>4478.000000</td>\n",
       "      <td>4478</td>\n",
       "      <td>4478</td>\n",
       "      <td>4478</td>\n",
       "      <td>4230</td>\n",
       "      <td>4309.000000</td>\n",
       "      <td>4473</td>\n",
       "      <td>4105</td>\n",
       "      <td>4478</td>\n",
       "      <td>4478</td>\n",
       "      <td>4478</td>\n",
       "      <td>4478</td>\n",
       "      <td>4299</td>\n",
       "      <td>4478</td>\n",
       "      <td>4309</td>\n",
       "    </tr>\n",
       "    <tr>\n",
       "      <th>unique</th>\n",
       "      <td>NaN</td>\n",
       "      <td>4332</td>\n",
       "      <td>1551</td>\n",
       "      <td>2</td>\n",
       "      <td>84</td>\n",
       "      <td>NaN</td>\n",
       "      <td>2</td>\n",
       "      <td>6</td>\n",
       "      <td>2168</td>\n",
       "      <td>51</td>\n",
       "      <td>2</td>\n",
       "      <td>3</td>\n",
       "      <td>4</td>\n",
       "      <td>2</td>\n",
       "      <td>5</td>\n",
       "    </tr>\n",
       "    <tr>\n",
       "      <th>top</th>\n",
       "      <td>NaN</td>\n",
       "      <td>TK TK</td>\n",
       "      <td>2018-06-29</td>\n",
       "      <td>shot</td>\n",
       "      <td>gun</td>\n",
       "      <td>NaN</td>\n",
       "      <td>M</td>\n",
       "      <td>W</td>\n",
       "      <td>Phoenix</td>\n",
       "      <td>CA</td>\n",
       "      <td>False</td>\n",
       "      <td>attack</td>\n",
       "      <td>Not fleeing</td>\n",
       "      <td>False</td>\n",
       "      <td>Youth</td>\n",
       "    </tr>\n",
       "    <tr>\n",
       "      <th>freq</th>\n",
       "      <td>NaN</td>\n",
       "      <td>129</td>\n",
       "      <td>9</td>\n",
       "      <td>4250</td>\n",
       "      <td>2489</td>\n",
       "      <td>NaN</td>\n",
       "      <td>4265</td>\n",
       "      <td>2059</td>\n",
       "      <td>68</td>\n",
       "      <td>680</td>\n",
       "      <td>3419</td>\n",
       "      <td>2829</td>\n",
       "      <td>2868</td>\n",
       "      <td>3982</td>\n",
       "      <td>1735</td>\n",
       "    </tr>\n",
       "    <tr>\n",
       "      <th>mean</th>\n",
       "      <td>2502.721974</td>\n",
       "      <td>NaN</td>\n",
       "      <td>NaN</td>\n",
       "      <td>NaN</td>\n",
       "      <td>NaN</td>\n",
       "      <td>36.879322</td>\n",
       "      <td>NaN</td>\n",
       "      <td>NaN</td>\n",
       "      <td>NaN</td>\n",
       "      <td>NaN</td>\n",
       "      <td>NaN</td>\n",
       "      <td>NaN</td>\n",
       "      <td>NaN</td>\n",
       "      <td>NaN</td>\n",
       "      <td>NaN</td>\n",
       "    </tr>\n",
       "    <tr>\n",
       "      <th>std</th>\n",
       "      <td>1404.978671</td>\n",
       "      <td>NaN</td>\n",
       "      <td>NaN</td>\n",
       "      <td>NaN</td>\n",
       "      <td>NaN</td>\n",
       "      <td>13.067598</td>\n",
       "      <td>NaN</td>\n",
       "      <td>NaN</td>\n",
       "      <td>NaN</td>\n",
       "      <td>NaN</td>\n",
       "      <td>NaN</td>\n",
       "      <td>NaN</td>\n",
       "      <td>NaN</td>\n",
       "      <td>NaN</td>\n",
       "      <td>NaN</td>\n",
       "    </tr>\n",
       "    <tr>\n",
       "      <th>min</th>\n",
       "      <td>3.000000</td>\n",
       "      <td>NaN</td>\n",
       "      <td>NaN</td>\n",
       "      <td>NaN</td>\n",
       "      <td>NaN</td>\n",
       "      <td>6.000000</td>\n",
       "      <td>NaN</td>\n",
       "      <td>NaN</td>\n",
       "      <td>NaN</td>\n",
       "      <td>NaN</td>\n",
       "      <td>NaN</td>\n",
       "      <td>NaN</td>\n",
       "      <td>NaN</td>\n",
       "      <td>NaN</td>\n",
       "      <td>NaN</td>\n",
       "    </tr>\n",
       "    <tr>\n",
       "      <th>25%</th>\n",
       "      <td>1286.250000</td>\n",
       "      <td>NaN</td>\n",
       "      <td>NaN</td>\n",
       "      <td>NaN</td>\n",
       "      <td>NaN</td>\n",
       "      <td>27.000000</td>\n",
       "      <td>NaN</td>\n",
       "      <td>NaN</td>\n",
       "      <td>NaN</td>\n",
       "      <td>NaN</td>\n",
       "      <td>NaN</td>\n",
       "      <td>NaN</td>\n",
       "      <td>NaN</td>\n",
       "      <td>NaN</td>\n",
       "      <td>NaN</td>\n",
       "    </tr>\n",
       "    <tr>\n",
       "      <th>50%</th>\n",
       "      <td>2505.500000</td>\n",
       "      <td>NaN</td>\n",
       "      <td>NaN</td>\n",
       "      <td>NaN</td>\n",
       "      <td>NaN</td>\n",
       "      <td>35.000000</td>\n",
       "      <td>NaN</td>\n",
       "      <td>NaN</td>\n",
       "      <td>NaN</td>\n",
       "      <td>NaN</td>\n",
       "      <td>NaN</td>\n",
       "      <td>NaN</td>\n",
       "      <td>NaN</td>\n",
       "      <td>NaN</td>\n",
       "      <td>NaN</td>\n",
       "    </tr>\n",
       "    <tr>\n",
       "      <th>75%</th>\n",
       "      <td>3718.750000</td>\n",
       "      <td>NaN</td>\n",
       "      <td>NaN</td>\n",
       "      <td>NaN</td>\n",
       "      <td>NaN</td>\n",
       "      <td>45.000000</td>\n",
       "      <td>NaN</td>\n",
       "      <td>NaN</td>\n",
       "      <td>NaN</td>\n",
       "      <td>NaN</td>\n",
       "      <td>NaN</td>\n",
       "      <td>NaN</td>\n",
       "      <td>NaN</td>\n",
       "      <td>NaN</td>\n",
       "      <td>NaN</td>\n",
       "    </tr>\n",
       "    <tr>\n",
       "      <th>max</th>\n",
       "      <td>4927.000000</td>\n",
       "      <td>NaN</td>\n",
       "      <td>NaN</td>\n",
       "      <td>NaN</td>\n",
       "      <td>NaN</td>\n",
       "      <td>91.000000</td>\n",
       "      <td>NaN</td>\n",
       "      <td>NaN</td>\n",
       "      <td>NaN</td>\n",
       "      <td>NaN</td>\n",
       "      <td>NaN</td>\n",
       "      <td>NaN</td>\n",
       "      <td>NaN</td>\n",
       "      <td>NaN</td>\n",
       "      <td>NaN</td>\n",
       "    </tr>\n",
       "  </tbody>\n",
       "</table>\n",
       "</div>"
      ],
      "text/plain": [
       "                 id   name        date manner_of_death armed          age  \\\n",
       "count   4478.000000   4478        4478            4478  4230  4309.000000   \n",
       "unique          NaN   4332        1551               2    84          NaN   \n",
       "top             NaN  TK TK  2018-06-29            shot   gun          NaN   \n",
       "freq            NaN    129           9            4250  2489          NaN   \n",
       "mean    2502.721974    NaN         NaN             NaN   NaN    36.879322   \n",
       "std     1404.978671    NaN         NaN             NaN   NaN    13.067598   \n",
       "min        3.000000    NaN         NaN             NaN   NaN     6.000000   \n",
       "25%     1286.250000    NaN         NaN             NaN   NaN    27.000000   \n",
       "50%     2505.500000    NaN         NaN             NaN   NaN    35.000000   \n",
       "75%     3718.750000    NaN         NaN             NaN   NaN    45.000000   \n",
       "max     4927.000000    NaN         NaN             NaN   NaN    91.000000   \n",
       "\n",
       "       gender  race     city state signs_of_mental_illness threat_level  \\\n",
       "count    4473  4105     4478  4478                    4478         4478   \n",
       "unique      2     6     2168    51                       2            3   \n",
       "top         M     W  Phoenix    CA                   False       attack   \n",
       "freq     4265  2059       68   680                    3419         2829   \n",
       "mean      NaN   NaN      NaN   NaN                     NaN          NaN   \n",
       "std       NaN   NaN      NaN   NaN                     NaN          NaN   \n",
       "min       NaN   NaN      NaN   NaN                     NaN          NaN   \n",
       "25%       NaN   NaN      NaN   NaN                     NaN          NaN   \n",
       "50%       NaN   NaN      NaN   NaN                     NaN          NaN   \n",
       "75%       NaN   NaN      NaN   NaN                     NaN          NaN   \n",
       "max       NaN   NaN      NaN   NaN                     NaN          NaN   \n",
       "\n",
       "               flee body_camera age_categories  \n",
       "count          4299        4478           4309  \n",
       "unique            4           2              5  \n",
       "top     Not fleeing       False          Youth  \n",
       "freq           2868        3982           1735  \n",
       "mean            NaN         NaN            NaN  \n",
       "std             NaN         NaN            NaN  \n",
       "min             NaN         NaN            NaN  \n",
       "25%             NaN         NaN            NaN  \n",
       "50%             NaN         NaN            NaN  \n",
       "75%             NaN         NaN            NaN  \n",
       "max             NaN         NaN            NaN  "
      ]
     },
     "execution_count": 98,
     "metadata": {},
     "output_type": "execute_result"
    }
   ],
   "source": [
    "df.describe(include='all')"
   ]
  },
  {
   "cell_type": "code",
   "execution_count": 99,
   "id": "de649f4b",
   "metadata": {
    "id": "6d0e4df2",
    "outputId": "27bb88dc-63e5-4fbf-8f03-7e80d54dbe63"
   },
   "outputs": [
    {
     "name": "stdout",
     "output_type": "stream",
     "text": [
      "Standard devaition of Age:  13.067598403906874\n"
     ]
    }
   ],
   "source": [
    "# Calculate the standard devaition\n",
    "print(\"Standard devaition of Age: \", df['age'].std())"
   ]
  },
  {
   "cell_type": "code",
   "execution_count": 100,
   "id": "07c86fdb",
   "metadata": {
    "id": "ac250691",
    "outputId": "69263ac7-5c07-4247-8ccf-1349ce57f7ab"
   },
   "outputs": [
    {
     "name": "stdout",
     "output_type": "stream",
     "text": [
      "Average of Age:  36.87932234857276\n"
     ]
    }
   ],
   "source": [
    "# Average age of a victim\n",
    "print(\"Average of Age: \", df['age'].mean())"
   ]
  },
  {
   "cell_type": "code",
   "execution_count": 101,
   "id": "a080eb80",
   "metadata": {
    "id": "2322ddbf"
   },
   "outputs": [
    {
     "data": {
      "text/plain": [
       "city\n",
       "Phoenix        68\n",
       "Los Angeles    68\n",
       "Houston        45\n",
       "Las Vegas      40\n",
       "San Antonio    36\n",
       "Chicago        34\n",
       "Columbus       33\n",
       "Albuquerque    30\n",
       "Miami          28\n",
       "Austin         27\n",
       "Name: count, dtype: int64"
      ]
     },
     "execution_count": 101,
     "metadata": {},
     "output_type": "execute_result"
    }
   ],
   "source": [
    "# Which city records the most Kill Events by police?\n",
    "df['city'].value_counts(dropna=False)[:10]"
   ]
  },
  {
   "cell_type": "code",
   "execution_count": 102,
   "id": "1c9649a4-8dda-4bd8-b984-cb882bbce368",
   "metadata": {},
   "outputs": [
    {
     "name": "stdout",
     "output_type": "stream",
     "text": [
      "The Cites which have highest records for kill events by police are Los Angeles,Phoenix\n"
     ]
    }
   ],
   "source": [
    "print(\"The Cites which have highest records for kill events by police are\", \",\".join(df['city'].mode()))"
   ]
  },
  {
   "cell_type": "markdown",
   "id": "dcb3e6a6",
   "metadata": {
    "id": "be08780a"
   },
   "source": [
    "### Question: 4 (2 marks)\n",
    "Create a new  \" age categories \" column using age column of a dataset"
   ]
  },
  {
   "cell_type": "code",
   "execution_count": 104,
   "id": "5451fc22",
   "metadata": {
    "id": "4fd0f394"
   },
   "outputs": [
    {
     "data": {
      "text/plain": [
       "0       Senior citizens\n",
       "1                 Adult\n",
       "2                 Youth\n",
       "3                 Youth\n",
       "4                 Adult\n",
       "             ...       \n",
       "4473              Youth\n",
       "4474    Senior citizens\n",
       "4475                NaN\n",
       "4476              Adult\n",
       "4477            Teenage\n",
       "Name: age, Length: 4478, dtype: category\n",
       "Categories (5, object): ['Child' < 'Teenage' < 'Youth' < 'Adult' < 'Senior citizens']"
      ]
     },
     "execution_count": 104,
     "metadata": {},
     "output_type": "execute_result"
    }
   ],
   "source": [
    "'''Hint: if age is between 0 to 12, then categorise as child. \n",
    "13-21 as Teenage, 22-34 as Youth, 35-50 as Adult, 51-120 as Senior citizens'''\n",
    "    #-------- build the code down --------#\n",
    "age_cat = pd.cut(df['age'], bins=[0, 12, 21, 34, 50, 120], labels=['Child', 'Teenage', 'Youth', 'Adult', 'Senior citizens'])            \n",
    "age_cat # Assumption: The rows which do not have an age does not have a age category. "
   ]
  },
  {
   "cell_type": "code",
   "execution_count": 89,
   "id": "9e05ee53",
   "metadata": {
    "id": "6da8d4e0"
   },
   "outputs": [],
   "source": [
    "df['age_categories'] =  age_cat"
   ]
  },
  {
   "cell_type": "code",
   "execution_count": 90,
   "id": "e0aab666",
   "metadata": {
    "id": "2af025a0"
   },
   "outputs": [
    {
     "data": {
      "text/html": [
       "<div>\n",
       "<style scoped>\n",
       "    .dataframe tbody tr th:only-of-type {\n",
       "        vertical-align: middle;\n",
       "    }\n",
       "\n",
       "    .dataframe tbody tr th {\n",
       "        vertical-align: top;\n",
       "    }\n",
       "\n",
       "    .dataframe thead th {\n",
       "        text-align: right;\n",
       "    }\n",
       "</style>\n",
       "<table border=\"1\" class=\"dataframe\">\n",
       "  <thead>\n",
       "    <tr style=\"text-align: right;\">\n",
       "      <th></th>\n",
       "      <th>id</th>\n",
       "      <th>name</th>\n",
       "      <th>date</th>\n",
       "      <th>manner_of_death</th>\n",
       "      <th>armed</th>\n",
       "      <th>age</th>\n",
       "      <th>gender</th>\n",
       "      <th>race</th>\n",
       "      <th>city</th>\n",
       "      <th>state</th>\n",
       "      <th>signs_of_mental_illness</th>\n",
       "      <th>threat_level</th>\n",
       "      <th>flee</th>\n",
       "      <th>body_camera</th>\n",
       "      <th>age_categories</th>\n",
       "    </tr>\n",
       "  </thead>\n",
       "  <tbody>\n",
       "    <tr>\n",
       "      <th>0</th>\n",
       "      <td>3</td>\n",
       "      <td>Tim Elliot</td>\n",
       "      <td>2015-01-02</td>\n",
       "      <td>shot</td>\n",
       "      <td>gun</td>\n",
       "      <td>53.0</td>\n",
       "      <td>M</td>\n",
       "      <td>A</td>\n",
       "      <td>Shelton</td>\n",
       "      <td>WA</td>\n",
       "      <td>True</td>\n",
       "      <td>attack</td>\n",
       "      <td>Not fleeing</td>\n",
       "      <td>False</td>\n",
       "      <td>Senior citizens</td>\n",
       "    </tr>\n",
       "    <tr>\n",
       "      <th>1</th>\n",
       "      <td>4</td>\n",
       "      <td>Lewis Lee Lembke</td>\n",
       "      <td>2015-01-02</td>\n",
       "      <td>shot</td>\n",
       "      <td>gun</td>\n",
       "      <td>47.0</td>\n",
       "      <td>M</td>\n",
       "      <td>W</td>\n",
       "      <td>Aloha</td>\n",
       "      <td>OR</td>\n",
       "      <td>False</td>\n",
       "      <td>attack</td>\n",
       "      <td>Not fleeing</td>\n",
       "      <td>False</td>\n",
       "      <td>Adult</td>\n",
       "    </tr>\n",
       "    <tr>\n",
       "      <th>2</th>\n",
       "      <td>5</td>\n",
       "      <td>John Paul Quintero</td>\n",
       "      <td>2015-01-03</td>\n",
       "      <td>shot and Tasered</td>\n",
       "      <td>unarmed</td>\n",
       "      <td>23.0</td>\n",
       "      <td>M</td>\n",
       "      <td>H</td>\n",
       "      <td>Wichita</td>\n",
       "      <td>KS</td>\n",
       "      <td>False</td>\n",
       "      <td>other</td>\n",
       "      <td>Not fleeing</td>\n",
       "      <td>False</td>\n",
       "      <td>Youth</td>\n",
       "    </tr>\n",
       "    <tr>\n",
       "      <th>3</th>\n",
       "      <td>8</td>\n",
       "      <td>Matthew Hoffman</td>\n",
       "      <td>2015-01-04</td>\n",
       "      <td>shot</td>\n",
       "      <td>toy weapon</td>\n",
       "      <td>32.0</td>\n",
       "      <td>M</td>\n",
       "      <td>W</td>\n",
       "      <td>San Francisco</td>\n",
       "      <td>CA</td>\n",
       "      <td>True</td>\n",
       "      <td>attack</td>\n",
       "      <td>Not fleeing</td>\n",
       "      <td>False</td>\n",
       "      <td>Youth</td>\n",
       "    </tr>\n",
       "    <tr>\n",
       "      <th>4</th>\n",
       "      <td>9</td>\n",
       "      <td>Michael Rodriguez</td>\n",
       "      <td>2015-01-04</td>\n",
       "      <td>shot</td>\n",
       "      <td>nail gun</td>\n",
       "      <td>39.0</td>\n",
       "      <td>M</td>\n",
       "      <td>H</td>\n",
       "      <td>Evans</td>\n",
       "      <td>CO</td>\n",
       "      <td>False</td>\n",
       "      <td>attack</td>\n",
       "      <td>Not fleeing</td>\n",
       "      <td>False</td>\n",
       "      <td>Adult</td>\n",
       "    </tr>\n",
       "  </tbody>\n",
       "</table>\n",
       "</div>"
      ],
      "text/plain": [
       "   id                name        date   manner_of_death       armed   age  \\\n",
       "0   3          Tim Elliot  2015-01-02              shot         gun  53.0   \n",
       "1   4    Lewis Lee Lembke  2015-01-02              shot         gun  47.0   \n",
       "2   5  John Paul Quintero  2015-01-03  shot and Tasered     unarmed  23.0   \n",
       "3   8     Matthew Hoffman  2015-01-04              shot  toy weapon  32.0   \n",
       "4   9   Michael Rodriguez  2015-01-04              shot    nail gun  39.0   \n",
       "\n",
       "  gender race           city state  signs_of_mental_illness threat_level  \\\n",
       "0      M    A        Shelton    WA                     True       attack   \n",
       "1      M    W          Aloha    OR                    False       attack   \n",
       "2      M    H        Wichita    KS                    False        other   \n",
       "3      M    W  San Francisco    CA                     True       attack   \n",
       "4      M    H          Evans    CO                    False       attack   \n",
       "\n",
       "          flee  body_camera   age_categories  \n",
       "0  Not fleeing        False  Senior citizens  \n",
       "1  Not fleeing        False            Adult  \n",
       "2  Not fleeing        False            Youth  \n",
       "3  Not fleeing        False            Youth  \n",
       "4  Not fleeing        False            Adult  "
      ]
     },
     "execution_count": 90,
     "metadata": {},
     "output_type": "execute_result"
    }
   ],
   "source": [
    "# Display the first 5 records after creating the column\n",
    "df.head(5)\n",
    "\n",
    "#Todo: Code to fill\n",
    " # 1. Write code to build the conditions for the categories of age\n",
    " # 2. '<<__A__>>'--> method to display first 5 rows\n"
   ]
  },
  {
   "cell_type": "markdown",
   "id": "d8dc3ec7",
   "metadata": {
    "id": "d9347ed8"
   },
   "source": [
    "### Question: 5 (2 marks)\n",
    "Find the state which records the most kill events by police and display the type of attacks done on the male senior citizen of that state."
   ]
  },
  {
   "cell_type": "code",
   "execution_count": 91,
   "id": "ce7d3ec3",
   "metadata": {
    "id": "17a3ca7b",
    "outputId": "17bcd365-4aee-40ea-b412-d9c4f16715a3"
   },
   "outputs": [
    {
     "name": "stdout",
     "output_type": "stream",
     "text": [
      "The State which have highest records for kill events by police are CA\n"
     ]
    }
   ],
   "source": [
    "# Which State records the most Kill Events by police?\n",
    "print(\"The State which have highest records for kill events by police are\", \",\".join(df['state'].mode()))"
   ]
  },
  {
   "cell_type": "code",
   "execution_count": 92,
   "id": "788c1b45",
   "metadata": {
    "id": "8493450d"
   },
   "outputs": [
    {
     "data": {
      "text/plain": [
       "array(['gun', 'toy weapon', 'knife', 'undetermined', 'box cutter', nan,\n",
       "       'unarmed', 'unknown weapon', 'pipe', 'blunt object', 'pitchfork',\n",
       "       'metal pipe'], dtype=object)"
      ]
     },
     "execution_count": 92,
     "metadata": {},
     "output_type": "execute_result"
    }
   ],
   "source": [
    "# What kinds of attacks (armed) are most affected by the male senior citizens in the state of 'CA'\n",
    "df[(df['age_categories'] == 'Senior citizens') & (df['gender'] == \"M\") & (df['state']=='CA')]['armed'].unique()\n",
    "\n",
    "#Todo: Code to fill\n",
    "\n",
    "# 1. '<<__A__>>'--> write proper age category \n",
    "# 2. '<<__B__>>'--> write state filter \n",
    "# 3. '<<__C__>>'--> write the appropriate command to show distinct attacks without repetitions\n"
   ]
  },
  {
   "cell_type": "code",
   "execution_count": 93,
   "id": "ddc49249",
   "metadata": {
    "id": "ee9fb540"
   },
   "outputs": [],
   "source": [
    "# Save the processed data to use for Week2 assignment \n",
    "df.to_csv(\"week_1_assignment_output.csv\",index=False)\n"
   ]
  },
  {
   "cell_type": "markdown",
   "id": "07d1746a",
   "metadata": {
    "id": "9f6279cb"
   },
   "source": [
    "## Thank you!"
   ]
  },
  {
   "cell_type": "code",
   "execution_count": null,
   "id": "d016f9d9-f52c-458c-be42-128a8b8ff64e",
   "metadata": {},
   "outputs": [],
   "source": []
  }
 ],
 "metadata": {
  "colab": {
   "provenance": []
  },
  "kernelspec": {
   "display_name": "Python 3 (ipykernel)",
   "language": "python",
   "name": "python3"
  },
  "language_info": {
   "codemirror_mode": {
    "name": "ipython",
    "version": 3
   },
   "file_extension": ".py",
   "mimetype": "text/x-python",
   "name": "python",
   "nbconvert_exporter": "python",
   "pygments_lexer": "ipython3",
   "version": "3.10.13"
  }
 },
 "nbformat": 4,
 "nbformat_minor": 5
}
