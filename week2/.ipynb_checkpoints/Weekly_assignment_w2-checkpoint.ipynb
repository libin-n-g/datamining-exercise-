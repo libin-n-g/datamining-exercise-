{
 "cells": [
  {
   "cell_type": "markdown",
   "id": "c99bc0f4",
   "metadata": {
    "id": "c99bc0f4"
   },
   "source": [
    "# Week:2 Know your data"
   ]
  },
  {
   "cell_type": "markdown",
   "id": "17614dd2",
   "metadata": {
    "id": "17614dd2"
   },
   "source": [
    "### Objective:\n",
    "The objective of the assignment is to perform statistical analysis on a given data using python libraries and exploratory data analysis using data visualization techniques.\n",
    "\n",
    "We have to use Fatal Police Shooting Data to answer the questions given in this notebook."
   ]
  },
  {
   "cell_type": "markdown",
   "id": "94579906",
   "metadata": {
    "id": "94579906"
   },
   "source": [
    "### Fatal Police Shooting Data"
   ]
  },
  {
   "cell_type": "markdown",
   "id": "4fbb8326",
   "metadata": {
    "id": "4fbb8326"
   },
   "source": [
    "**About dataset**\\\n",
    "The dataset consists of following columns\n",
    "1. **id**                         : unqiue identifier of each victim\n",
    "2. **name**                       : name of a victim\n",
    "3. **date**                       : date on fatal shooting \n",
    "4. **manner_of_death**            : manner of death classification\n",
    "    * Shot\n",
    "    * Shot and Tasered\n",
    "5. **armed**                      : indicates that the victim was armed with some sort of implement that a police officer believed could inflict harm\n",
    "    * undetermined: it is not known whether or not the victim had a weapon\n",
    "    * unknown: the victim was armed, but it is not known what the object was\n",
    "    * unarmed: the victim was not armed\n",
    "6. **age**                        : age of victim\n",
    "7. **gender**                     : the gender of the victim. The Post identifies victims by the gender they identify with if reports indicate that it differs from their biological sex.\n",
    "    * M: Male\n",
    "    * F: Female\n",
    "    * None: Unknown\n",
    "8. **race**                       : race of victim\n",
    "    * W: White, non-Hispanic\n",
    "    * B: Black, non-Hispanic\n",
    "    * A: Asian\n",
    "    * N: Native American\n",
    "    * H: Hispanic\n",
    "    * O: Other\n",
    "    * None: unknown\n",
    "9. **city**                       : the municipality where the fatal shooting took place. Note that in some cases this field may contain a county name if a more specific municipality is unavailable or unknown.\n",
    "10. **state**                     : two-letter postal code abbreviation\n",
    "11. **signs_of_mental_illness**   : News reports have indicated the victim had a history of mental health issues, expressed suicidal intentions or was experiencing mental distress at the time of the shooting.\n",
    "12. **threat_level**              : These would include incidents where officers or others were shot at, threatened with a gun, attacked with other weapons or physical force, etc. The attack category is meant to flag the highest level of threat. The other and undetermined categories represent all remaining cases. Other includes many incidents where officers or others faced significant threats. \n",
    "13. **flee**                      : News reports have indicated the victim was moving away from officers\n",
    "    * Foot\n",
    "    * Car\n",
    "    * Not fleeing\n",
    "14. **body_camera**               : News reports have indicated an officer was wearing a body camera and it may have recorded some portion of the incident."
   ]
  },
  {
   "cell_type": "markdown",
   "id": "e14398de",
   "metadata": {
    "id": "e14398de"
   },
   "source": [
    "## Let's Begin"
   ]
  },
  {
   "cell_type": "code",
   "execution_count": 1,
   "id": "bbffb6a9",
   "metadata": {
    "id": "bbffb6a9"
   },
   "outputs": [],
   "source": [
    "# Install the libraries\n",
    "import pandas as pd \n",
    "import numpy as np\n",
    "import matplotlib.pyplot as plt\n",
    "import seaborn as sns\n",
    "%matplotlib inline"
   ]
  },
  {
   "cell_type": "code",
   "execution_count": 2,
   "id": "336383ca",
   "metadata": {
    "id": "336383ca",
    "outputId": "3218a7b8-9b0d-4542-d965-eb314b76ef27"
   },
   "outputs": [
    {
     "data": {
      "text/html": [
       "<div>\n",
       "<style scoped>\n",
       "    .dataframe tbody tr th:only-of-type {\n",
       "        vertical-align: middle;\n",
       "    }\n",
       "\n",
       "    .dataframe tbody tr th {\n",
       "        vertical-align: top;\n",
       "    }\n",
       "\n",
       "    .dataframe thead th {\n",
       "        text-align: right;\n",
       "    }\n",
       "</style>\n",
       "<table border=\"1\" class=\"dataframe\">\n",
       "  <thead>\n",
       "    <tr style=\"text-align: right;\">\n",
       "      <th></th>\n",
       "      <th>id</th>\n",
       "      <th>name</th>\n",
       "      <th>date</th>\n",
       "      <th>manner_of_death</th>\n",
       "      <th>armed</th>\n",
       "      <th>age</th>\n",
       "      <th>gender</th>\n",
       "      <th>race</th>\n",
       "      <th>city</th>\n",
       "      <th>state</th>\n",
       "      <th>signs_of_mental_illness</th>\n",
       "      <th>threat_level</th>\n",
       "      <th>flee</th>\n",
       "      <th>body_camera</th>\n",
       "      <th>age_categories</th>\n",
       "    </tr>\n",
       "  </thead>\n",
       "  <tbody>\n",
       "    <tr>\n",
       "      <th>0</th>\n",
       "      <td>3</td>\n",
       "      <td>Tim Elliot</td>\n",
       "      <td>2015-01-02</td>\n",
       "      <td>shot</td>\n",
       "      <td>gun</td>\n",
       "      <td>53.0</td>\n",
       "      <td>M</td>\n",
       "      <td>A</td>\n",
       "      <td>Shelton</td>\n",
       "      <td>WA</td>\n",
       "      <td>True</td>\n",
       "      <td>attack</td>\n",
       "      <td>Not fleeing</td>\n",
       "      <td>False</td>\n",
       "      <td>Senior citizens</td>\n",
       "    </tr>\n",
       "    <tr>\n",
       "      <th>1</th>\n",
       "      <td>4</td>\n",
       "      <td>Lewis Lee Lembke</td>\n",
       "      <td>2015-01-02</td>\n",
       "      <td>shot</td>\n",
       "      <td>gun</td>\n",
       "      <td>47.0</td>\n",
       "      <td>M</td>\n",
       "      <td>W</td>\n",
       "      <td>Aloha</td>\n",
       "      <td>OR</td>\n",
       "      <td>False</td>\n",
       "      <td>attack</td>\n",
       "      <td>Not fleeing</td>\n",
       "      <td>False</td>\n",
       "      <td>Adult</td>\n",
       "    </tr>\n",
       "    <tr>\n",
       "      <th>2</th>\n",
       "      <td>5</td>\n",
       "      <td>John Paul Quintero</td>\n",
       "      <td>2015-01-03</td>\n",
       "      <td>shot and Tasered</td>\n",
       "      <td>unarmed</td>\n",
       "      <td>23.0</td>\n",
       "      <td>M</td>\n",
       "      <td>H</td>\n",
       "      <td>Wichita</td>\n",
       "      <td>KS</td>\n",
       "      <td>False</td>\n",
       "      <td>other</td>\n",
       "      <td>Not fleeing</td>\n",
       "      <td>False</td>\n",
       "      <td>Youth</td>\n",
       "    </tr>\n",
       "    <tr>\n",
       "      <th>3</th>\n",
       "      <td>8</td>\n",
       "      <td>Matthew Hoffman</td>\n",
       "      <td>2015-01-04</td>\n",
       "      <td>shot</td>\n",
       "      <td>toy weapon</td>\n",
       "      <td>32.0</td>\n",
       "      <td>M</td>\n",
       "      <td>W</td>\n",
       "      <td>San Francisco</td>\n",
       "      <td>CA</td>\n",
       "      <td>True</td>\n",
       "      <td>attack</td>\n",
       "      <td>Not fleeing</td>\n",
       "      <td>False</td>\n",
       "      <td>Youth</td>\n",
       "    </tr>\n",
       "    <tr>\n",
       "      <th>4</th>\n",
       "      <td>9</td>\n",
       "      <td>Michael Rodriguez</td>\n",
       "      <td>2015-01-04</td>\n",
       "      <td>shot</td>\n",
       "      <td>nail gun</td>\n",
       "      <td>39.0</td>\n",
       "      <td>M</td>\n",
       "      <td>H</td>\n",
       "      <td>Evans</td>\n",
       "      <td>CO</td>\n",
       "      <td>False</td>\n",
       "      <td>attack</td>\n",
       "      <td>Not fleeing</td>\n",
       "      <td>False</td>\n",
       "      <td>Adult</td>\n",
       "    </tr>\n",
       "  </tbody>\n",
       "</table>\n",
       "</div>"
      ],
      "text/plain": [
       "   id                name        date   manner_of_death       armed   age  \\\n",
       "0   3          Tim Elliot  2015-01-02              shot         gun  53.0   \n",
       "1   4    Lewis Lee Lembke  2015-01-02              shot         gun  47.0   \n",
       "2   5  John Paul Quintero  2015-01-03  shot and Tasered     unarmed  23.0   \n",
       "3   8     Matthew Hoffman  2015-01-04              shot  toy weapon  32.0   \n",
       "4   9   Michael Rodriguez  2015-01-04              shot    nail gun  39.0   \n",
       "\n",
       "  gender race           city state  signs_of_mental_illness threat_level  \\\n",
       "0      M    A        Shelton    WA                     True       attack   \n",
       "1      M    W          Aloha    OR                    False       attack   \n",
       "2      M    H        Wichita    KS                    False        other   \n",
       "3      M    W  San Francisco    CA                     True       attack   \n",
       "4      M    H          Evans    CO                    False       attack   \n",
       "\n",
       "          flee  body_camera   age_categories  \n",
       "0  Not fleeing        False  Senior citizens  \n",
       "1  Not fleeing        False            Adult  \n",
       "2  Not fleeing        False            Youth  \n",
       "3  Not fleeing        False            Youth  \n",
       "4  Not fleeing        False            Adult  "
      ]
     },
     "execution_count": 2,
     "metadata": {},
     "output_type": "execute_result"
    }
   ],
   "source": [
    "# Load the dataframe \n",
    "df = pd.read_csv('week_1_assignment_output.csv')\n",
    "df.head()\n",
    "\n",
    "# TODO: Code to fill: \n",
    "# 1. '<<__A__>>' --> Path of the csv file"
   ]
  },
  {
   "cell_type": "code",
   "execution_count": 3,
   "id": "f7c7f28b",
   "metadata": {
    "id": "f7c7f28b",
    "outputId": "04740c1f-5bfa-4d48-8658-c67e476c07eb"
   },
   "outputs": [
    {
     "data": {
      "text/plain": [
       "(4478, 15)"
      ]
     },
     "execution_count": 3,
     "metadata": {},
     "output_type": "execute_result"
    }
   ],
   "source": [
    "# Check the shape of the dataset\n",
    "df.shape"
   ]
  },
  {
   "cell_type": "markdown",
   "id": "8340d0e8",
   "metadata": {
    "id": "8340d0e8"
   },
   "source": [
    "### Question: 1 (2 Marks)\n",
    "\n",
    "Display the count of missing values in each column of a dataset"
   ]
  },
  {
   "cell_type": "code",
   "execution_count": 6,
   "id": "4c6deb73",
   "metadata": {
    "id": "4c6deb73"
   },
   "outputs": [
    {
     "data": {
      "text/plain": [
       "id                           0\n",
       "name                         0\n",
       "date                         0\n",
       "manner_of_death              0\n",
       "armed                      248\n",
       "age                        169\n",
       "gender                       5\n",
       "race                       373\n",
       "city                         0\n",
       "state                        0\n",
       "signs_of_mental_illness      0\n",
       "threat_level                 0\n",
       "flee                       179\n",
       "body_camera                  0\n",
       "age_categories               0\n",
       "dtype: int64"
      ]
     },
     "execution_count": 6,
     "metadata": {},
     "output_type": "execute_result"
    }
   ],
   "source": [
    "df.isna().sum()\n",
    "\n",
    "# TODO: Code to fill: \n",
    "# 1. '<<__A__>>' --> Use correct method from pandas library to check for number of missing values\n"
   ]
  },
  {
   "cell_type": "markdown",
   "id": "a4efbe66",
   "metadata": {
    "id": "a4efbe66"
   },
   "source": [
    "### Question: 2 (2 Marks)\n",
    "Display the outliers present in the age column using IQR method"
   ]
  },
  {
   "cell_type": "code",
   "execution_count": 8,
   "id": "a6d96152",
   "metadata": {
    "id": "a6d96152"
   },
   "outputs": [],
   "source": [
    "# Quantile 1 of age column (25 percentage)\n",
    "Q1 = df['age'].quantile(0.25)\n",
    "# Quantile 3 of age column (75 percentage)\n",
    "Q3 =  df['age'].quantile(0.75)"
   ]
  },
  {
   "cell_type": "code",
   "execution_count": 9,
   "id": "c25e9091",
   "metadata": {
    "id": "c25e9091"
   },
   "outputs": [
    {
     "data": {
      "text/plain": [
       "18.0"
      ]
     },
     "execution_count": 9,
     "metadata": {},
     "output_type": "execute_result"
    }
   ],
   "source": [
    "# Inter Quartile Range\n",
    "IQR = Q3 - Q1\n",
    "IQR"
   ]
  },
  {
   "cell_type": "code",
   "execution_count": 10,
   "id": "3cd435d2",
   "metadata": {
    "id": "3cd435d2"
   },
   "outputs": [
    {
     "name": "stdout",
     "output_type": "stream",
     "text": [
      "72.0\n",
      "0.0\n"
     ]
    }
   ],
   "source": [
    "# Outliers present in upper case\n",
    "upper_case = Q3 + (1.5*IQR)\n",
    "print(upper_case)\n",
    "# Outliers present in lower case\n",
    "lower_case = Q1 - (1.5*IQR)\n",
    "print(lower_case)"
   ]
  },
  {
   "cell_type": "code",
   "execution_count": 16,
   "id": "ihPsqm9iWw88",
   "metadata": {
    "id": "ihPsqm9iWw88"
   },
   "outputs": [],
   "source": [
    "# Loop through the each data record in the age column and append a data to the outliers list variable \n",
    "outliers = []\n",
    "for i in df['age']: \n",
    "  if ( i < 0 or i > 72 ):  # if any data point in the age column less than lower case or any data point greater than upper case will be an outlier\n",
    "    outliers.append(i)\n",
    "\n",
    "# TODO: Code to fill: \n",
    "\n",
    "# 1. '<<__A__>>' --> column name\n",
    "# 2. '<<__B__>>' --> Apply the condition"
   ]
  },
  {
   "cell_type": "code",
   "execution_count": 17,
   "id": "MF5leAr0JqlX",
   "metadata": {
    "id": "MF5leAr0JqlX"
   },
   "outputs": [
    {
     "name": "stdout",
     "output_type": "stream",
     "text": [
      "[75.0, 74.0, 77.0, 83.0, 76.0, 86.0, 76.0, 77.0, 76.0, 76.0, 80.0, 82.0, 86.0, 76.0, 83.0, 73.0, 91.0, 73.0, 79.0, 74.0, 75.0, 82.0, 76.0, 78.0, 84.0, 84.0, 81.0, 89.0, 73.0, 77.0, 76.0, 84.0, 81.0, 80.0, 77.0, 76.0, 74.0, 76.0, 73.0]\n"
     ]
    }
   ],
   "source": [
    "# print outliers\n",
    "print(outliers)"
   ]
  },
  {
   "cell_type": "markdown",
   "id": "195e585a",
   "metadata": {
    "id": "195e585a"
   },
   "source": [
    "### Question: 3 (2 Marks) \n",
    "Group the year, gender, age categories to check how many victims were harmed"
   ]
  },
  {
   "cell_type": "code",
   "execution_count": 18,
   "id": "5c295817",
   "metadata": {
    "id": "5c295817"
   },
   "outputs": [],
   "source": [
    "# Create a new column by extracting year from the date column\n",
    "df['year'] = pd.to_datetime(df['date']).dt.year"
   ]
  },
  {
   "cell_type": "code",
   "execution_count": 21,
   "id": "fb42388f",
   "metadata": {
    "id": "fb42388f"
   },
   "outputs": [
    {
     "data": {
      "text/html": [
       "<div>\n",
       "<style scoped>\n",
       "    .dataframe tbody tr th:only-of-type {\n",
       "        vertical-align: middle;\n",
       "    }\n",
       "\n",
       "    .dataframe tbody tr th {\n",
       "        vertical-align: top;\n",
       "    }\n",
       "\n",
       "    .dataframe thead th {\n",
       "        text-align: right;\n",
       "    }\n",
       "</style>\n",
       "<table border=\"1\" class=\"dataframe\">\n",
       "  <thead>\n",
       "    <tr style=\"text-align: right;\">\n",
       "      <th></th>\n",
       "      <th></th>\n",
       "      <th></th>\n",
       "      <th>id</th>\n",
       "    </tr>\n",
       "    <tr>\n",
       "      <th>year</th>\n",
       "      <th>gender</th>\n",
       "      <th>age_categories</th>\n",
       "      <th></th>\n",
       "    </tr>\n",
       "  </thead>\n",
       "  <tbody>\n",
       "    <tr>\n",
       "      <th rowspan=\"9\" valign=\"top\">2015</th>\n",
       "      <th rowspan=\"4\" valign=\"top\">F</th>\n",
       "      <th>Adult</th>\n",
       "      <td>18</td>\n",
       "    </tr>\n",
       "    <tr>\n",
       "      <th>Senior citizens</th>\n",
       "      <td>6</td>\n",
       "    </tr>\n",
       "    <tr>\n",
       "      <th>Teenage</th>\n",
       "      <td>5</td>\n",
       "    </tr>\n",
       "    <tr>\n",
       "      <th>Youth</th>\n",
       "      <td>13</td>\n",
       "    </tr>\n",
       "    <tr>\n",
       "      <th rowspan=\"5\" valign=\"top\">M</th>\n",
       "      <th>Adult</th>\n",
       "      <td>309</td>\n",
       "    </tr>\n",
       "    <tr>\n",
       "      <th>Child</th>\n",
       "      <td>1</td>\n",
       "    </tr>\n",
       "    <tr>\n",
       "      <th>Senior citizens</th>\n",
       "      <td>166</td>\n",
       "    </tr>\n",
       "    <tr>\n",
       "      <th>Teenage</th>\n",
       "      <td>89</td>\n",
       "    </tr>\n",
       "    <tr>\n",
       "      <th>Youth</th>\n",
       "      <td>387</td>\n",
       "    </tr>\n",
       "    <tr>\n",
       "      <th rowspan=\"8\" valign=\"top\">2016</th>\n",
       "      <th rowspan=\"4\" valign=\"top\">F</th>\n",
       "      <th>Adult</th>\n",
       "      <td>15</td>\n",
       "    </tr>\n",
       "    <tr>\n",
       "      <th>Child</th>\n",
       "      <td>1</td>\n",
       "    </tr>\n",
       "    <tr>\n",
       "      <th>Senior citizens</th>\n",
       "      <td>7</td>\n",
       "    </tr>\n",
       "    <tr>\n",
       "      <th>Youth</th>\n",
       "      <td>17</td>\n",
       "    </tr>\n",
       "    <tr>\n",
       "      <th rowspan=\"4\" valign=\"top\">M</th>\n",
       "      <th>Adult</th>\n",
       "      <td>304</td>\n",
       "    </tr>\n",
       "    <tr>\n",
       "      <th>Senior citizens</th>\n",
       "      <td>170</td>\n",
       "    </tr>\n",
       "    <tr>\n",
       "      <th>Teenage</th>\n",
       "      <td>84</td>\n",
       "    </tr>\n",
       "    <tr>\n",
       "      <th>Youth</th>\n",
       "      <td>364</td>\n",
       "    </tr>\n",
       "    <tr>\n",
       "      <th rowspan=\"9\" valign=\"top\">2017</th>\n",
       "      <th rowspan=\"4\" valign=\"top\">F</th>\n",
       "      <th>Adult</th>\n",
       "      <td>12</td>\n",
       "    </tr>\n",
       "    <tr>\n",
       "      <th>Senior citizens</th>\n",
       "      <td>8</td>\n",
       "    </tr>\n",
       "    <tr>\n",
       "      <th>Teenage</th>\n",
       "      <td>5</td>\n",
       "    </tr>\n",
       "    <tr>\n",
       "      <th>Youth</th>\n",
       "      <td>20</td>\n",
       "    </tr>\n",
       "    <tr>\n",
       "      <th rowspan=\"5\" valign=\"top\">M</th>\n",
       "      <th>Adult</th>\n",
       "      <td>297</td>\n",
       "    </tr>\n",
       "    <tr>\n",
       "      <th>Child</th>\n",
       "      <td>1</td>\n",
       "    </tr>\n",
       "    <tr>\n",
       "      <th>Senior citizens</th>\n",
       "      <td>179</td>\n",
       "    </tr>\n",
       "    <tr>\n",
       "      <th>Teenage</th>\n",
       "      <td>79</td>\n",
       "    </tr>\n",
       "    <tr>\n",
       "      <th>Youth</th>\n",
       "      <td>383</td>\n",
       "    </tr>\n",
       "    <tr>\n",
       "      <th rowspan=\"8\" valign=\"top\">2018</th>\n",
       "      <th rowspan=\"4\" valign=\"top\">F</th>\n",
       "      <th>Adult</th>\n",
       "      <td>19</td>\n",
       "    </tr>\n",
       "    <tr>\n",
       "      <th>Senior citizens</th>\n",
       "      <td>11</td>\n",
       "    </tr>\n",
       "    <tr>\n",
       "      <th>Teenage</th>\n",
       "      <td>3</td>\n",
       "    </tr>\n",
       "    <tr>\n",
       "      <th>Youth</th>\n",
       "      <td>19</td>\n",
       "    </tr>\n",
       "    <tr>\n",
       "      <th rowspan=\"4\" valign=\"top\">M</th>\n",
       "      <th>Adult</th>\n",
       "      <td>314</td>\n",
       "    </tr>\n",
       "    <tr>\n",
       "      <th>Senior citizens</th>\n",
       "      <td>207</td>\n",
       "    </tr>\n",
       "    <tr>\n",
       "      <th>Teenage</th>\n",
       "      <td>85</td>\n",
       "    </tr>\n",
       "    <tr>\n",
       "      <th>Youth</th>\n",
       "      <td>333</td>\n",
       "    </tr>\n",
       "    <tr>\n",
       "      <th rowspan=\"8\" valign=\"top\">2019</th>\n",
       "      <th rowspan=\"4\" valign=\"top\">F</th>\n",
       "      <th>Adult</th>\n",
       "      <td>8</td>\n",
       "    </tr>\n",
       "    <tr>\n",
       "      <th>Senior citizens</th>\n",
       "      <td>6</td>\n",
       "    </tr>\n",
       "    <tr>\n",
       "      <th>Teenage</th>\n",
       "      <td>4</td>\n",
       "    </tr>\n",
       "    <tr>\n",
       "      <th>Youth</th>\n",
       "      <td>11</td>\n",
       "    </tr>\n",
       "    <tr>\n",
       "      <th rowspan=\"4\" valign=\"top\">M</th>\n",
       "      <th>Adult</th>\n",
       "      <td>169</td>\n",
       "    </tr>\n",
       "    <tr>\n",
       "      <th>Senior citizens</th>\n",
       "      <td>107</td>\n",
       "    </tr>\n",
       "    <tr>\n",
       "      <th>Teenage</th>\n",
       "      <td>49</td>\n",
       "    </tr>\n",
       "    <tr>\n",
       "      <th>Youth</th>\n",
       "      <td>188</td>\n",
       "    </tr>\n",
       "  </tbody>\n",
       "</table>\n",
       "</div>"
      ],
      "text/plain": [
       "                              id\n",
       "year gender age_categories      \n",
       "2015 F      Adult             18\n",
       "            Senior citizens    6\n",
       "            Teenage            5\n",
       "            Youth             13\n",
       "     M      Adult            309\n",
       "            Child              1\n",
       "            Senior citizens  166\n",
       "            Teenage           89\n",
       "            Youth            387\n",
       "2016 F      Adult             15\n",
       "            Child              1\n",
       "            Senior citizens    7\n",
       "            Youth             17\n",
       "     M      Adult            304\n",
       "            Senior citizens  170\n",
       "            Teenage           84\n",
       "            Youth            364\n",
       "2017 F      Adult             12\n",
       "            Senior citizens    8\n",
       "            Teenage            5\n",
       "            Youth             20\n",
       "     M      Adult            297\n",
       "            Child              1\n",
       "            Senior citizens  179\n",
       "            Teenage           79\n",
       "            Youth            383\n",
       "2018 F      Adult             19\n",
       "            Senior citizens   11\n",
       "            Teenage            3\n",
       "            Youth             19\n",
       "     M      Adult            314\n",
       "            Senior citizens  207\n",
       "            Teenage           85\n",
       "            Youth            333\n",
       "2019 F      Adult              8\n",
       "            Senior citizens    6\n",
       "            Teenage            4\n",
       "            Youth             11\n",
       "     M      Adult            169\n",
       "            Senior citizens  107\n",
       "            Teenage           49\n",
       "            Youth            188"
      ]
     },
     "execution_count": 21,
     "metadata": {},
     "output_type": "execute_result"
    }
   ],
   "source": [
    "# df.'<<__A__>>'([ '<<__B__>>'])[['id']].'<<__C__>>'>()\n",
    "df.groupby([\"year\", \"gender\", \"age_categories\"])[[\"id\"]].count()\n",
    " #Replace '<>' with correct method \n",
    "\n",
    "# TODO: Code to fill: \n",
    "\n",
    "# 1. '<<__A__>>' --> write your code here by selecting appropriate method/function from python \n",
    "# 2. '<<__B__>>' --> write column names from dataframe\n",
    "# 3. '<<__C__>>' --> write your command "
   ]
  },
  {
   "cell_type": "markdown",
   "id": "yjEYx9yHE7bB",
   "metadata": {
    "id": "yjEYx9yHE7bB"
   },
   "source": []
  },
  {
   "cell_type": "markdown",
   "id": "be08780a",
   "metadata": {
    "id": "be08780a"
   },
   "source": [
    "### Question: 4 (2 Marks )\n",
    "Generate a bar plot using seaborn and understand the threat levels of different age categories"
   ]
  },
  {
   "cell_type": "code",
   "execution_count": 28,
   "id": "0cde59bf",
   "metadata": {
    "id": "0cde59bf"
   },
   "outputs": [
    {
     "ename": "TypeError",
     "evalue": "Horizontal orientation requires numeric `x` variable.",
     "output_type": "error",
     "traceback": [
      "\u001b[0;31m---------------------------------------------------------------------------\u001b[0m",
      "\u001b[0;31mTypeError\u001b[0m                                 Traceback (most recent call last)",
      "Cell \u001b[0;32mIn[28], line 2\u001b[0m\n\u001b[1;32m      1\u001b[0m plt\u001b[38;5;241m.\u001b[39mfigure(figsize\u001b[38;5;241m=\u001b[39m(\u001b[38;5;241m12\u001b[39m,\u001b[38;5;241m6\u001b[39m))  \u001b[38;5;66;03m# set a plot size (12,6)\u001b[39;00m\n\u001b[0;32m----> 2\u001b[0m \u001b[43msns\u001b[49m\u001b[38;5;241;43m.\u001b[39;49m\u001b[43mbarplot\u001b[49m\u001b[43m(\u001b[49m\u001b[43mdata\u001b[49m\u001b[38;5;241;43m=\u001b[39;49m\u001b[43mdf\u001b[49m\u001b[43m,\u001b[49m\u001b[43m \u001b[49m\u001b[43mx\u001b[49m\u001b[38;5;241;43m=\u001b[39;49m\u001b[38;5;124;43m\"\u001b[39;49m\u001b[38;5;124;43mage_categories\u001b[39;49m\u001b[38;5;124;43m\"\u001b[39;49m\u001b[43m,\u001b[49m\u001b[43mhue\u001b[49m\u001b[38;5;241;43m=\u001b[39;49m\u001b[38;5;124;43m\"\u001b[39;49m\u001b[38;5;124;43mthreat_level\u001b[39;49m\u001b[38;5;124;43m\"\u001b[39;49m\u001b[43m)\u001b[49m\n",
      "File \u001b[0;32m~/anaconda3/lib/python3.10/site-packages/seaborn/categorical.py:2755\u001b[0m, in \u001b[0;36mbarplot\u001b[0;34m(data, x, y, hue, order, hue_order, estimator, errorbar, n_boot, units, seed, orient, color, palette, saturation, width, errcolor, errwidth, capsize, dodge, ci, ax, **kwargs)\u001b[0m\n\u001b[1;32m   2752\u001b[0m \u001b[38;5;28;01mif\u001b[39;00m estimator \u001b[38;5;129;01mis\u001b[39;00m \u001b[38;5;28mlen\u001b[39m:\n\u001b[1;32m   2753\u001b[0m     estimator \u001b[38;5;241m=\u001b[39m \u001b[38;5;124m\"\u001b[39m\u001b[38;5;124msize\u001b[39m\u001b[38;5;124m\"\u001b[39m\n\u001b[0;32m-> 2755\u001b[0m plotter \u001b[38;5;241m=\u001b[39m \u001b[43m_BarPlotter\u001b[49m\u001b[43m(\u001b[49m\u001b[43mx\u001b[49m\u001b[43m,\u001b[49m\u001b[43m \u001b[49m\u001b[43my\u001b[49m\u001b[43m,\u001b[49m\u001b[43m \u001b[49m\u001b[43mhue\u001b[49m\u001b[43m,\u001b[49m\u001b[43m \u001b[49m\u001b[43mdata\u001b[49m\u001b[43m,\u001b[49m\u001b[43m \u001b[49m\u001b[43morder\u001b[49m\u001b[43m,\u001b[49m\u001b[43m \u001b[49m\u001b[43mhue_order\u001b[49m\u001b[43m,\u001b[49m\n\u001b[1;32m   2756\u001b[0m \u001b[43m                      \u001b[49m\u001b[43mestimator\u001b[49m\u001b[43m,\u001b[49m\u001b[43m \u001b[49m\u001b[43merrorbar\u001b[49m\u001b[43m,\u001b[49m\u001b[43m \u001b[49m\u001b[43mn_boot\u001b[49m\u001b[43m,\u001b[49m\u001b[43m \u001b[49m\u001b[43munits\u001b[49m\u001b[43m,\u001b[49m\u001b[43m \u001b[49m\u001b[43mseed\u001b[49m\u001b[43m,\u001b[49m\n\u001b[1;32m   2757\u001b[0m \u001b[43m                      \u001b[49m\u001b[43morient\u001b[49m\u001b[43m,\u001b[49m\u001b[43m \u001b[49m\u001b[43mcolor\u001b[49m\u001b[43m,\u001b[49m\u001b[43m \u001b[49m\u001b[43mpalette\u001b[49m\u001b[43m,\u001b[49m\u001b[43m \u001b[49m\u001b[43msaturation\u001b[49m\u001b[43m,\u001b[49m\n\u001b[1;32m   2758\u001b[0m \u001b[43m                      \u001b[49m\u001b[43mwidth\u001b[49m\u001b[43m,\u001b[49m\u001b[43m \u001b[49m\u001b[43merrcolor\u001b[49m\u001b[43m,\u001b[49m\u001b[43m \u001b[49m\u001b[43merrwidth\u001b[49m\u001b[43m,\u001b[49m\u001b[43m \u001b[49m\u001b[43mcapsize\u001b[49m\u001b[43m,\u001b[49m\u001b[43m \u001b[49m\u001b[43mdodge\u001b[49m\u001b[43m)\u001b[49m\n\u001b[1;32m   2760\u001b[0m \u001b[38;5;28;01mif\u001b[39;00m ax \u001b[38;5;129;01mis\u001b[39;00m \u001b[38;5;28;01mNone\u001b[39;00m:\n\u001b[1;32m   2761\u001b[0m     ax \u001b[38;5;241m=\u001b[39m plt\u001b[38;5;241m.\u001b[39mgca()\n",
      "File \u001b[0;32m~/anaconda3/lib/python3.10/site-packages/seaborn/categorical.py:1530\u001b[0m, in \u001b[0;36m_BarPlotter.__init__\u001b[0;34m(self, x, y, hue, data, order, hue_order, estimator, errorbar, n_boot, units, seed, orient, color, palette, saturation, width, errcolor, errwidth, capsize, dodge)\u001b[0m\n\u001b[1;32m   1525\u001b[0m \u001b[38;5;28;01mdef\u001b[39;00m \u001b[38;5;21m__init__\u001b[39m(\u001b[38;5;28mself\u001b[39m, x, y, hue, data, order, hue_order,\n\u001b[1;32m   1526\u001b[0m              estimator, errorbar, n_boot, units, seed,\n\u001b[1;32m   1527\u001b[0m              orient, color, palette, saturation, width,\n\u001b[1;32m   1528\u001b[0m              errcolor, errwidth, capsize, dodge):\n\u001b[1;32m   1529\u001b[0m \u001b[38;5;250m    \u001b[39m\u001b[38;5;124;03m\"\"\"Initialize the plotter.\"\"\"\u001b[39;00m\n\u001b[0;32m-> 1530\u001b[0m     \u001b[38;5;28;43mself\u001b[39;49m\u001b[38;5;241;43m.\u001b[39;49m\u001b[43mestablish_variables\u001b[49m\u001b[43m(\u001b[49m\u001b[43mx\u001b[49m\u001b[43m,\u001b[49m\u001b[43m \u001b[49m\u001b[43my\u001b[49m\u001b[43m,\u001b[49m\u001b[43m \u001b[49m\u001b[43mhue\u001b[49m\u001b[43m,\u001b[49m\u001b[43m \u001b[49m\u001b[43mdata\u001b[49m\u001b[43m,\u001b[49m\u001b[43m \u001b[49m\u001b[43morient\u001b[49m\u001b[43m,\u001b[49m\n\u001b[1;32m   1531\u001b[0m \u001b[43m                             \u001b[49m\u001b[43morder\u001b[49m\u001b[43m,\u001b[49m\u001b[43m \u001b[49m\u001b[43mhue_order\u001b[49m\u001b[43m,\u001b[49m\u001b[43m \u001b[49m\u001b[43munits\u001b[49m\u001b[43m)\u001b[49m\n\u001b[1;32m   1532\u001b[0m     \u001b[38;5;28mself\u001b[39m\u001b[38;5;241m.\u001b[39mestablish_colors(color, palette, saturation)\n\u001b[1;32m   1533\u001b[0m     \u001b[38;5;28mself\u001b[39m\u001b[38;5;241m.\u001b[39mestimate_statistic(estimator, errorbar, n_boot, seed)\n",
      "File \u001b[0;32m~/anaconda3/lib/python3.10/site-packages/seaborn/categorical.py:544\u001b[0m, in \u001b[0;36m_CategoricalPlotter.establish_variables\u001b[0;34m(self, x, y, hue, data, orient, order, hue_order, units)\u001b[0m\n\u001b[1;32m    541\u001b[0m         \u001b[38;5;28;01mraise\u001b[39;00m \u001b[38;5;167;01mValueError\u001b[39;00m(err)\n\u001b[1;32m    543\u001b[0m \u001b[38;5;66;03m# Figure out the plotting orientation\u001b[39;00m\n\u001b[0;32m--> 544\u001b[0m orient \u001b[38;5;241m=\u001b[39m \u001b[43minfer_orient\u001b[49m\u001b[43m(\u001b[49m\n\u001b[1;32m    545\u001b[0m \u001b[43m    \u001b[49m\u001b[43mx\u001b[49m\u001b[43m,\u001b[49m\u001b[43m \u001b[49m\u001b[43my\u001b[49m\u001b[43m,\u001b[49m\u001b[43m \u001b[49m\u001b[43morient\u001b[49m\u001b[43m,\u001b[49m\u001b[43m \u001b[49m\u001b[43mrequire_numeric\u001b[49m\u001b[38;5;241;43m=\u001b[39;49m\u001b[38;5;28;43mself\u001b[39;49m\u001b[38;5;241;43m.\u001b[39;49m\u001b[43mrequire_numeric\u001b[49m\n\u001b[1;32m    546\u001b[0m \u001b[43m\u001b[49m\u001b[43m)\u001b[49m\n\u001b[1;32m    548\u001b[0m \u001b[38;5;66;03m# Option 2a:\u001b[39;00m\n\u001b[1;32m    549\u001b[0m \u001b[38;5;66;03m# We are plotting a single set of data\u001b[39;00m\n\u001b[1;32m    550\u001b[0m \u001b[38;5;66;03m# ------------------------------------\u001b[39;00m\n\u001b[1;32m    551\u001b[0m \u001b[38;5;28;01mif\u001b[39;00m x \u001b[38;5;129;01mis\u001b[39;00m \u001b[38;5;28;01mNone\u001b[39;00m \u001b[38;5;129;01mor\u001b[39;00m y \u001b[38;5;129;01mis\u001b[39;00m \u001b[38;5;28;01mNone\u001b[39;00m:\n\u001b[1;32m    552\u001b[0m \n\u001b[1;32m    553\u001b[0m     \u001b[38;5;66;03m# Determine where the data are\u001b[39;00m\n",
      "File \u001b[0;32m~/anaconda3/lib/python3.10/site-packages/seaborn/_oldcore.py:1601\u001b[0m, in \u001b[0;36minfer_orient\u001b[0;34m(x, y, orient, require_numeric)\u001b[0m\n\u001b[1;32m   1599\u001b[0m         warnings\u001b[38;5;241m.\u001b[39mwarn(single_var_warning\u001b[38;5;241m.\u001b[39mformat(\u001b[38;5;124m\"\u001b[39m\u001b[38;5;124mVertical\u001b[39m\u001b[38;5;124m\"\u001b[39m, \u001b[38;5;124m\"\u001b[39m\u001b[38;5;124mx\u001b[39m\u001b[38;5;124m\"\u001b[39m))\n\u001b[1;32m   1600\u001b[0m     \u001b[38;5;28;01mif\u001b[39;00m require_numeric \u001b[38;5;129;01mand\u001b[39;00m x_type \u001b[38;5;241m!=\u001b[39m \u001b[38;5;124m\"\u001b[39m\u001b[38;5;124mnumeric\u001b[39m\u001b[38;5;124m\"\u001b[39m:\n\u001b[0;32m-> 1601\u001b[0m         \u001b[38;5;28;01mraise\u001b[39;00m \u001b[38;5;167;01mTypeError\u001b[39;00m(nonnumeric_dv_error\u001b[38;5;241m.\u001b[39mformat(\u001b[38;5;124m\"\u001b[39m\u001b[38;5;124mHorizontal\u001b[39m\u001b[38;5;124m\"\u001b[39m, \u001b[38;5;124m\"\u001b[39m\u001b[38;5;124mx\u001b[39m\u001b[38;5;124m\"\u001b[39m))\n\u001b[1;32m   1602\u001b[0m     \u001b[38;5;28;01mreturn\u001b[39;00m \u001b[38;5;124m\"\u001b[39m\u001b[38;5;124mh\u001b[39m\u001b[38;5;124m\"\u001b[39m\n\u001b[1;32m   1604\u001b[0m \u001b[38;5;28;01melif\u001b[39;00m \u001b[38;5;28mstr\u001b[39m(orient)\u001b[38;5;241m.\u001b[39mstartswith(\u001b[38;5;124m\"\u001b[39m\u001b[38;5;124mv\u001b[39m\u001b[38;5;124m\"\u001b[39m):\n",
      "\u001b[0;31mTypeError\u001b[0m: Horizontal orientation requires numeric `x` variable."
     ]
    },
    {
     "data": {
      "text/plain": [
       "<Figure size 1200x600 with 0 Axes>"
      ]
     },
     "metadata": {},
     "output_type": "display_data"
    }
   ],
   "source": [
    "plt.figure(figsize=(12,6))  # set a plot size (12,6)\n",
    "sns.barplot(data=df, x=\"age_categories\", hue=\"threat_level\")\n",
    "\n",
    "# TODO: Code to fill: \n",
    "#Replace '<>' with correct method \n",
    "\n",
    "# 1. '<<__A__>>' --> write your code to set plot size\n",
    "# 2. '<<__B__>>' --> write your code here by selecting appropriate method from seaborn\n",
    "# 3. '<<__C__>>' --> write your parameter here to load data  \n",
    "# 4. '<<__D__>>' --> write your hue column"
   ]
  },
  {
   "cell_type": "markdown",
   "id": "d9347ed8",
   "metadata": {
    "id": "d9347ed8"
   },
   "source": [
    "### Question: 5 (2 Marks )\n",
    "Generate a bar plot using seaborn and understand the year wise kills based on victim race"
   ]
  },
  {
   "cell_type": "code",
   "execution_count": null,
   "id": "3baae75c",
   "metadata": {
    "id": "3baae75c"
   },
   "outputs": [],
   "source": [
    "plt.figure(<'<<__A__>>'>)    # set a plot size (12,6)\n",
    "sns.< '<<__B__>>' >(< '<<__C__>>' >=df,x=\"year\",< '<<__D__>>' >) \n",
    "\n",
    "# TODO: Code to fill: \n",
    "#Replace '<>' with correct method \n",
    "\n",
    "# 1. '<<__A__>>' --> write your code to set plot size\n",
    "# 2. '<<__B__>>' --> write your code here by selecting appropriate method from seaborn\n",
    "# 3. '<<__C__>>' --> write your parameter here to load databarplot  \n",
    "# 4. '<<__D__>>' --> write your hue column\n"
   ]
  },
  {
   "cell_type": "code",
   "execution_count": null,
   "id": "4Na7zRHCw4sG",
   "metadata": {
    "id": "4Na7zRHCw4sG"
   },
   "outputs": [],
   "source": [
    "# Save the data into csv to use for week-3 assignment\n"
   ]
  },
  {
   "cell_type": "markdown",
   "id": "9f6279cb",
   "metadata": {
    "id": "9f6279cb"
   },
   "source": [
    "## Thank you!"
   ]
  }
 ],
 "metadata": {
  "colab": {
   "provenance": []
  },
  "kernelspec": {
   "display_name": "Python 3 (ipykernel)",
   "language": "python",
   "name": "python3"
  },
  "language_info": {
   "codemirror_mode": {
    "name": "ipython",
    "version": 3
   },
   "file_extension": ".py",
   "mimetype": "text/x-python",
   "name": "python",
   "nbconvert_exporter": "python",
   "pygments_lexer": "ipython3",
   "version": "3.10.13"
  }
 },
 "nbformat": 4,
 "nbformat_minor": 5
}
